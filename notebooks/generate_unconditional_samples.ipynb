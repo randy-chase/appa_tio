{
  "cells": [
    {
      "cell_type": "markdown",
      "metadata": {},
      "source": [
        "# Appa: Unconditional Sample Generation\n",
        "\n",
        "This notebook demonstrates how to generate unconditional atmospheric samples using a trained Appa model.\n",
        "\n",
        "Based on the [Appa documentation](https://github.com/montefiore-sail/appa/wiki/Generating-Unconditional-Samples), this follows the blanket mechanism for generating prior trajectories.\n",
        "\n",
        "## Setup and Imports\n"
      ]
    },
    {
      "cell_type": "code",
      "execution_count": null,
      "metadata": {},
      "outputs": [],
      "source": [
        "import os\n",
        "import sys\n",
        "import torch\n",
        "import numpy as np\n",
        "import matplotlib.pyplot as plt\n",
        "from pathlib import Path\n",
        "from omegaconf import OmegaConf\n",
        "from einops import rearrange\n",
        "\n",
        "# Add the appa module to the path\n",
        "sys.path.append('/Users/randychase/Documents/PythonWorkspace/cbottle/appa_tio')\n",
        "\n",
        "import appa\n",
        "from appa.diffusion import create_denoiser, create_schedule\n",
        "from appa.sampling import DDIMSampler, PCMSampler, DDPMSampler, LMSDiscreteSampler\n",
        "from appa.save import load_auto_encoder, load_denoiser\n",
        "from appa.data.datasets import LatentBlanketDataset\n",
        "from appa.date import create_trajectory_timestamps\n",
        "from appa.grid import create_icosphere\n",
        "\n",
        "# Set device\n",
        "device = torch.device('cuda' if torch.cuda.is_available() else 'cpu')\n",
        "print(f\"Using device: {device}\")\n"
      ]
    },
    {
      "cell_type": "markdown",
      "metadata": {},
      "source": [
        "## Configuration\n",
        "\n",
        "Configure the generation parameters. You'll need to update the `model_path` to point to your trained model.\n"
      ]
    },
    {
      "cell_type": "code",
      "execution_count": null,
      "metadata": {},
      "outputs": [],
      "source": [
        "# Configuration - UPDATE THESE PATHS TO YOUR MODEL\n",
        "config = {\n",
        "    'model_path': '/path/to/your/trained/model',  # Update this path\n",
        "    'model_target': 'best',  # Options: 'best', 'last'\n",
        "    'diffusion': {\n",
        "        'num_steps': 64,  # Number of denoising steps\n",
        "        'sampler': {\n",
        "            'type': 'lms',  # Options: 'pc', 'ddpm', 'ddim', 'rewind', 'lms'\n",
        "            'config': {}\n",
        "        }\n",
        "    },\n",
        "    'trajectory_sizes': [72],  # Size of trajectory in hours\n",
        "    'num_samples_per_date': 2,  # Number of samples to generate\n",
        "    'start_dates': [\n",
        "        \"2000-04-03 0h\",\n",
        "        \"2000-04-20 12h\"\n",
        "    ],\n",
        "    'blanket_overlap': 4,  # Overlap between blankets\n",
        "    'precision': 'float16'  # Options: 'float32', 'float16', 'bfloat16'\n",
        "}\n",
        "\n",
        "print(\"Configuration:\")\n",
        "for key, value in config.items():\n",
        "    print(f\"  {key}: {value}\")\n"
      ]
    },
    {
      "cell_type": "markdown",
      "metadata": {},
      "source": [
        "## Load Models\n",
        "\n",
        "Load the trained autoencoder and denoiser models.\n"
      ]
    },
    {
      "cell_type": "code",
      "execution_count": null,
      "metadata": {},
      "outputs": [],
      "source": [
        "# Load autoencoder\n",
        "print(\"Loading autoencoder...\")\n",
        "ae_model, ae_cfg = load_auto_encoder(config['model_path'], target=config['model_target'])\n",
        "ae_model = ae_model.to(device)\n",
        "ae_model.eval()\n",
        "print(f\"Autoencoder loaded: {ae_cfg.ae.name}\")\n",
        "\n",
        "# Load denoiser\n",
        "print(\"Loading denoiser...\")\n",
        "denoiser, denoiser_cfg = load_denoiser(config['model_path'], target=config['model_target'])\n",
        "denoiser = denoiser.to(device)\n",
        "denoiser.eval()\n",
        "print(f\"Denoiser loaded: {denoiser_cfg.backbone.name}\")\n",
        "\n",
        "# Create noise schedule\n",
        "schedule = create_schedule(denoiser_cfg.train, device=device)\n",
        "print(f\"Noise schedule: {denoiser_cfg.train.noise_schedule}\")\n"
      ]
    },
    {
      "cell_type": "markdown",
      "metadata": {},
      "source": [
        "## Setup Sampling\n",
        "\n",
        "Configure the sampler based on the configuration.\n"
      ]
    },
    {
      "cell_type": "code",
      "execution_count": null,
      "metadata": {},
      "outputs": [],
      "source": [
        "# Create sampler\n",
        "sampler_type = config['diffusion']['sampler']['type']\n",
        "sampler_config = config['diffusion']['sampler']['config']\n",
        "num_steps = config['diffusion']['num_steps']\n",
        "\n",
        "if sampler_type == 'pc':\n",
        "    sampler = PCMSampler(denoiser, schedule, **sampler_config)\n",
        "elif sampler_type == 'ddpm':\n",
        "    sampler = DDPMSampler(denoiser, schedule, **sampler_config)\n",
        "elif sampler_type == 'ddim':\n",
        "    sampler = DDIMSampler(denoiser, schedule, **sampler_config)\n",
        "elif sampler_type == 'lms':\n",
        "    sampler = LMSDiscreteSampler(denoiser, schedule, **sampler_config)\n",
        "else:\n",
        "    raise ValueError(f\"Unknown sampler type: {sampler_type}\")\n",
        "\n",
        "print(f\"Sampler created: {sampler_type}\")\n",
        "print(f\"Number of steps: {num_steps}\")\n"
      ]
    },
    {
      "cell_type": "markdown",
      "metadata": {},
      "source": [
        "## Generate Unconditional Samples\n",
        "\n",
        "Generate unconditional atmospheric samples for the specified dates and trajectory sizes.\n"
      ]
    },
    {
      "cell_type": "code",
      "execution_count": null,
      "metadata": {},
      "outputs": [],
      "source": [
        "# Parse start dates\n",
        "start_dates = []\n",
        "for date_str in config['start_dates']:\n",
        "    # Parse date string like \"2000-04-03 0h\"\n",
        "    date_part, hour_part = date_str.split()\n",
        "    hour = int(hour_part.replace('h', ''))\n",
        "    start_dates.append((date_part, hour))\n",
        "\n",
        "print(f\"Start dates: {start_dates}\")\n",
        "print(f\"Trajectory sizes: {config['trajectory_sizes']}\")\n",
        "print(f\"Samples per date: {config['num_samples_per_date']}\")\n"
      ]
    },
    {
      "cell_type": "code",
      "execution_count": null,
      "metadata": {},
      "outputs": [],
      "source": [
        "# Generate samples for each trajectory size and start date\n",
        "all_samples = {}\n",
        "\n",
        "for trajectory_size in config['trajectory_sizes']:\n",
        "    print(f\"\\nGenerating samples for trajectory size: {trajectory_size}h\")\n",
        "    \n",
        "    trajectory_samples = {}\n",
        "    \n",
        "    for date_str, hour in start_dates:\n",
        "        print(f\"  Date: {date_str} {hour:02d}h\")\n",
        "        \n",
        "        # Create timestamps for the trajectory\n",
        "        timestamps = create_trajectory_timestamps(\n",
        "            start_date=date_str,\n",
        "            start_hour=hour,\n",
        "            trajectory_size=trajectory_size,\n",
        "            dt=1  # 1 hour timestep\n",
        "        )\n",
        "        \n",
        "        # Generate multiple samples for this date\n",
        "        date_samples = []\n",
        "        \n",
        "        for sample_idx in range(config['num_samples_per_date']):\n",
        "            print(f\"    Sample {sample_idx + 1}/{config['num_samples_per_date']}\")\n",
        "            \n",
        "            # Generate random noise as starting point\n",
        "            # The shape depends on your model configuration\n",
        "            # This is a placeholder - you'll need to adjust based on your model\n",
        "            batch_size = 1\n",
        "            latent_dim = ae_cfg.ae.latent_channels  # Adjust based on your model\n",
        "            \n",
        "            # Create random noise\n",
        "            z = torch.randn(batch_size, trajectory_size, latent_dim, device=device)\n",
        "            \n",
        "            # Generate sample using the sampler\n",
        "            with torch.no_grad():\n",
        "                sample = sampler.sample(\n",
        "                    z,\n",
        "                    num_steps=num_steps,\n",
        "                    timestamps=timestamps\n",
        "                )\n",
        "            \n",
        "            date_samples.append(sample.cpu())\n",
        "        \n",
        "        trajectory_samples[f\"{date_str}_{hour:02d}h\"] = torch.cat(date_samples, dim=0)\n",
        "    \n",
        "    all_samples[f\"{trajectory_size}h\"] = trajectory_samples\n",
        "\n",
        "print(\"\\nGeneration completed!\")\n"
      ]
    },
    {
      "cell_type": "markdown",
      "metadata": {},
      "source": [
        "## Decode Samples to Physical Space\n",
        "\n",
        "Decode the generated latent samples back to physical atmospheric variables.\n"
      ]
    },
    {
      "cell_type": "code",
      "execution_count": null,
      "metadata": {},
      "outputs": [],
      "source": [
        "# Decode samples to physical space\n",
        "decoded_samples = {}\n",
        "\n",
        "for trajectory_size, trajectory_data in all_samples.items():\n",
        "    print(f\"Decoding samples for {trajectory_size}...\")\n",
        "    \n",
        "    decoded_trajectory = {}\n",
        "    \n",
        "    for date_key, samples in trajectory_data.items():\n",
        "        print(f\"  Decoding {date_key}...\")\n",
        "        \n",
        "        # Move samples to device for decoding\n",
        "        samples = samples.to(device)\n",
        "        \n",
        "        # Decode each sample\n",
        "        decoded_batch = []\n",
        "        for i in range(samples.shape[0]):\n",
        "            with torch.no_grad():\n",
        "                # Decode the latent sample to physical space\n",
        "                decoded = ae_model.decode(samples[i:i+1])\n",
        "                decoded_batch.append(decoded.cpu())\n",
        "        \n",
        "        decoded_trajectory[date_key] = torch.cat(decoded_batch, dim=0)\n",
        "    \n",
        "    decoded_samples[trajectory_size] = decoded_trajectory\n",
        "\n",
        "print(\"Decoding completed!\")\n"
      ]
    },
    {
      "cell_type": "markdown",
      "metadata": {},
      "source": [
        "## Save Results\n",
        "\n",
        "Save the generated samples for later analysis.\n"
      ]
    },
    {
      "cell_type": "code",
      "execution_count": null,
      "metadata": {},
      "outputs": [],
      "source": [
        "# Create output directory\n",
        "output_dir = Path(\"generated_samples\")\n",
        "output_dir.mkdir(exist_ok=True)\n",
        "\n",
        "# Save latent samples\n",
        "latent_path = output_dir / \"latent_samples.pt\"\n",
        "torch.save(all_samples, latent_path)\n",
        "print(f\"Latent samples saved to: {latent_path}\")\n",
        "\n",
        "# Save decoded samples\n",
        "decoded_path = output_dir / \"decoded_samples.pt\"\n",
        "torch.save(decoded_samples, decoded_path)\n",
        "print(f\"Decoded samples saved to: {decoded_path}\")\n",
        "\n",
        "# Save configuration\n",
        "config_path = output_dir / \"generation_config.yaml\"\n",
        "OmegaConf.save(config, config_path)\n",
        "print(f\"Configuration saved to: {config_path}\")\n"
      ]
    },
    {
      "cell_type": "markdown",
      "metadata": {},
      "source": [
        "## Visualization\n",
        "\n",
        "Create some basic visualizations of the generated samples.\n"
      ]
    },
    {
      "cell_type": "code",
      "execution_count": null,
      "metadata": {},
      "outputs": [],
      "source": [
        "# Basic visualization of sample statistics\n",
        "fig, axes = plt.subplots(2, 2, figsize=(12, 10))\n",
        "axes = axes.flatten()\n",
        "\n",
        "for idx, (trajectory_size, trajectory_data) in enumerate(decoded_samples.items()):\n",
        "    if idx >= 4:\n",
        "        break\n",
        "    \n",
        "    ax = axes[idx]\n",
        "    \n",
        "    # Get all samples for this trajectory size\n",
        "    all_trajectory_samples = torch.cat(list(trajectory_data.values()), dim=0)\n",
        "    \n",
        "    # Plot mean and std across samples\n",
        "    mean_values = all_trajectory_samples.mean(dim=(0, 1))  # Mean across batch and time\n",
        "    std_values = all_trajectory_samples.std(dim=(0, 1))   # Std across batch and time\n",
        "    \n",
        "    ax.plot(mean_values.numpy(), label='Mean', alpha=0.7)\n",
        "    ax.fill_between(range(len(mean_values)), \n",
        "                    (mean_values - std_values).numpy(), \n",
        "                    (mean_values + std_values).numpy(), \n",
        "                    alpha=0.3, label='±1σ')\n",
        "    \n",
        "    ax.set_title(f'Trajectory {trajectory_size} - Sample Statistics')\n",
        "    ax.set_xlabel('Variable Index')\n",
        "    ax.set_ylabel('Value')\n",
        "    ax.legend()\n",
        "    ax.grid(True, alpha=0.3)\n",
        "\n",
        "plt.tight_layout()\n",
        "plt.show()\n",
        "\n",
        "# Print sample information\n",
        "print(\"\\nGenerated Sample Summary:\")\n",
        "for trajectory_size, trajectory_data in decoded_samples.items():\n",
        "    print(f\"\\nTrajectory {trajectory_size}:\")\n",
        "    for date_key, samples in trajectory_data.items():\n",
        "        print(f\"  {date_key}: {samples.shape} samples\")\n",
        "        print(f\"    Mean: {samples.mean().item():.4f}\")\n",
        "        print(f\"    Std: {samples.std().item():.4f}\")\n",
        "        print(f\"    Min: {samples.min().item():.4f}\")\n",
        "        print(f\"    Max: {samples.max().item():.4f}\")\n"
      ]
    },
    {
      "cell_type": "markdown",
      "metadata": {},
      "source": [
        "## Next Steps\n",
        "\n",
        "The generated samples can now be used for:\n",
        "\n",
        "1. **Rendering**: Use the rendering scripts to visualize the atmospheric states\n",
        "2. **Evaluation**: Compare against ground truth data for validation\n",
        "3. **Conditional Generation**: Use these as starting points for data assimilation\n",
        "4. **Forecasting**: Use as initial conditions for weather forecasting\n",
        "\n",
        "For more advanced usage, see the [Appa documentation](https://github.com/montefiore-sail/appa/wiki) for:\n",
        "- [Forecasting](https://github.com/montefiore-sail/appa/wiki/Forecasting)\n",
        "- [Reanalysis and Filtering](https://github.com/montefiore-sail/appa/wiki/Reanalysis-and-Filtering)\n",
        "- [Rendering States](https://github.com/montefiore-sail/appa/wiki/Rendering-States)\n"
      ]
    }
  ],
  "metadata": {
    "language_info": {
      "name": "python"
    }
  },
  "nbformat": 4,
  "nbformat_minor": 2
}
